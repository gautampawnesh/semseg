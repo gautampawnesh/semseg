{
 "cells": [
  {
   "cell_type": "code",
   "execution_count": 2,
   "id": "95d005b3",
   "metadata": {},
   "outputs": [],
   "source": [
    "%matplotlib inline"
   ]
  },
  {
   "cell_type": "code",
   "execution_count": 3,
   "id": "ca5c5024",
   "metadata": {},
   "outputs": [],
   "source": [
    "import math\n",
    "import os, sys, argparse, csv\n",
    "import inspect\n",
    "import numpy as np\n",
    "import imageio\n",
    "import matplotlib.pyplot as plt\n",
    "from multiprocessing import Pool\n",
    "from tqdm import tqdm\n",
    "import glob\n",
    "from pathlib import Path\n",
    "import json"
   ]
  },
  {
   "cell_type": "code",
   "execution_count": 1,
   "id": "59750e60",
   "metadata": {},
   "outputs": [
    {
     "name": "stdout",
     "output_type": "stream",
     "text": [
      "Looking in indexes: https://pypi.org/simple, https://pypi.ngc.nvidia.com\n",
      "Collecting imageio\n",
      "  Downloading imageio-2.19.3-py3-none-any.whl (3.4 MB)\n",
      "\u001b[K     |████████████████████████████████| 3.4 MB 3.9 MB/s eta 0:00:01\n",
      "\u001b[?25hRequirement already satisfied: numpy in /opt/conda/lib/python3.8/site-packages (from imageio) (1.22.0)\n",
      "Collecting pillow>=8.3.2\n",
      "  Downloading Pillow-9.1.1-cp38-cp38-manylinux_2_17_x86_64.manylinux2014_x86_64.whl (3.1 MB)\n",
      "\u001b[K     |████████████████████████████████| 3.1 MB 54.3 MB/s eta 0:00:01\n",
      "\u001b[?25hInstalling collected packages: pillow, imageio\n",
      "  Attempting uninstall: pillow\n",
      "    Found existing installation: Pillow 8.2.0\n",
      "    Uninstalling Pillow-8.2.0:\n",
      "      Successfully uninstalled Pillow-8.2.0\n",
      "Successfully installed imageio-2.19.3 pillow-9.1.1\n",
      "\u001b[33mWARNING: Running pip as the 'root' user can result in broken permissions and conflicting behaviour with the system package manager. It is recommended to use a virtual environment instead: https://pip.pypa.io/warnings/venv\u001b[0m\n"
     ]
    }
   ],
   "source": [
    "!pip install imageio"
   ]
  },
  {
   "cell_type": "code",
   "execution_count": 4,
   "id": "5673ee73",
   "metadata": {},
   "outputs": [],
   "source": [
    "def represents_int(s):\n",
    "    try: \n",
    "        int(s)\n",
    "        return True\n",
    "    except ValueError:\n",
    "        return False"
   ]
  },
  {
   "cell_type": "code",
   "execution_count": 5,
   "id": "b7184e7e",
   "metadata": {},
   "outputs": [],
   "source": [
    "def read_label_mapping(filename, label_from='raw_category', label_to='nyu40id'):\n",
    "    assert os.path.isfile(filename)\n",
    "    mapping = dict()\n",
    "    \n",
    "    with open(filename) as csvfile:\n",
    "        reader = csv.DictReader(csvfile, delimiter='\\t')\n",
    "        for row in reader:\n",
    "            mapping[row[label_from]] = int(row[label_to])\n",
    "    #import pdb; pdb.set_trace()\n",
    "    # if ints convert \n",
    "    if represents_int(list(mapping.keys())[0]):\n",
    "        mapping = {int(k):v for k,v in mapping.items()}\n",
    "    return mapping"
   ]
  },
  {
   "cell_type": "code",
   "execution_count": 6,
   "id": "a28eec7c",
   "metadata": {},
   "outputs": [],
   "source": [
    "def map_label_image(image, label_mapping):\n",
    "    mapped = np.copy(image)\n",
    "    for k,v in label_mapping.items():\n",
    "        mapped[image==k] = v\n",
    "    return mapped.astype(np.uint8)"
   ]
  },
  {
   "cell_type": "code",
   "execution_count": 7,
   "id": "8136656c",
   "metadata": {},
   "outputs": [],
   "source": [
    "def visualize_label_image(filename, image):\n",
    "    height = image.shape[0]\n",
    "    width = image.shape[1]\n",
    "    vis_image = np.zeros([height, width, 3], dtype=np.uint8)\n",
    "    color_palette = create_color_palette()\n",
    "    for idx, color in enumerate(color_palette):\n",
    "        vis_image[image==idx] = color\n",
    "    imageio.imwrite(filename, vis_image)"
   ]
  },
  {
   "cell_type": "code",
   "execution_count": 8,
   "id": "f5e3a83f",
   "metadata": {},
   "outputs": [],
   "source": [
    "def process_image(input_file):\n",
    "    \n",
    "    image = np.array(imageio.imread(input_file))\n",
    "    #print(label_map)\n",
    "    mapped_image = map_label_image(image, updated_label_map)\n",
    "    scene = input_file.replace(\"/ds-av/public_datasets/scannet/raw/scans/\", \"\").replace(\"/label\", \"\").split(\"/\")[0]\n",
    "    output_file = f\"/netscratch/gautam/scannet/scans/{scene}/annotation/segmentation/{Path(input_file).name.split('.')[0]}_labelId.{Path(input_file).name.split('.')[1]}\"\n",
    "    imageio.imwrite(output_file, mapped_image)\n",
    "    # uncomment to save out visualization\n",
    "    # util.visualize_label_image(os.path.splitext(opt.output_file)[0] + '_vis.jpg', mapped_image)"
   ]
  },
  {
   "cell_type": "code",
   "execution_count": 9,
   "id": "fcaf1514",
   "metadata": {},
   "outputs": [],
   "source": [
    "label_map_file = \"/ds-av/public_datasets/scannet/raw/scannetv2-labels.combined.tsv\""
   ]
  },
  {
   "cell_type": "code",
   "execution_count": 10,
   "id": "de2840c8",
   "metadata": {},
   "outputs": [],
   "source": [
    "label_map = read_label_mapping(label_map_file, label_from='id', label_to='nyu40id')"
   ]
  },
  {
   "cell_type": "code",
   "execution_count": 11,
   "id": "a7b150e0",
   "metadata": {},
   "outputs": [],
   "source": [
    "valid_label_ids = [1, 2, 3, 4, 5, 6, 7, 8, 9, 10, 11, 12, 14, 16, 24, 28, 33, 34,36,39]"
   ]
  },
  {
   "cell_type": "code",
   "execution_count": 12,
   "id": "ec520006",
   "metadata": {},
   "outputs": [],
   "source": [
    "updated_label_map = {}\n",
    "                     \n",
    "for k, v in label_map.items():\n",
    "    if v in valid_label_ids:\n",
    "        updated_label_map[k] = v\n",
    "    else:\n",
    "        updated_label_map[k] = 0"
   ]
  },
  {
   "cell_type": "code",
   "execution_count": 13,
   "id": "ba4b802b",
   "metadata": {},
   "outputs": [],
   "source": [
    "def main():\n",
    "#     searchImg = os.path.join(\"/ds-av/public_datasets/scannet/pre/scans/*/frame/color\", \"*.jpg\")\n",
    "    searchLabel = os.path.join(\"/netscratch/gautam/scannet/scans/*/annotation/segmentation/\", \"*.png\")\n",
    "    files = glob.glob(searchLabel)\n",
    "    new_files = []\n",
    "    #import pdb;pdb.set_trace()\n",
    "    for file in files:\n",
    "        filename = Path(file).name\n",
    "        scene_name = file.replace(\"/netscratch/gautam/scannet/scans/\", \"\").replace(\"/annotation/segmentation\", \"\").split(\"/\")[0]\n",
    "        new_file = f\"/ds-av/public_datasets/scannet/raw/scans/{scene_name}/label/{filename}\"\n",
    "        try:\n",
    "            if not Path(new_file).is_file():\n",
    "                raise ValueError(f\"File {new_file} not found\")\n",
    "            else:\n",
    "                new_files.append(new_file)\n",
    "        except:\n",
    "            print(f\"File {new_file} not found\")\n",
    "        \n",
    "    if not new_files:\n",
    "        print(\"Did not find any files.\")\n",
    "    tqdm.write(\n",
    "        \"Processing {} files for remapping\".format(len(files)))\n",
    "    \n",
    "    \n",
    "#     for i in new_files:\n",
    "#         print(i)\n",
    "#         break\n",
    "    \n",
    "    progress = 0\n",
    "    try:\n",
    "        tqdm.write(\"Progress: {:>3} %\".format(\n",
    "            progress * 100 / len(new_files)), end=' ')\n",
    "    except ZeroDivisionError:\n",
    "        print(\"no data\")\n",
    "\n",
    "    pool = Pool(12)\n",
    "    results = list(\n",
    "        tqdm(pool.imap(process_image, new_files), total=len(new_files)))\n",
    "    pool.close()\n",
    "    pool.join()"
   ]
  },
  {
   "cell_type": "code",
   "execution_count": 14,
   "id": "29de1e86",
   "metadata": {},
   "outputs": [
    {
     "name": "stdout",
     "output_type": "stream",
     "text": [
      "File /ds-av/public_datasets/scannet/raw/scans/scene0468_00/label/470_labelId.png not found\n",
      "File /ds-av/public_datasets/scannet/raw/scans/scene0468_00/label/931_labelId.png not found\n",
      "File /ds-av/public_datasets/scannet/raw/scans/scene0468_00/label/1573_labelId.png not found\n",
      "File /ds-av/public_datasets/scannet/raw/scans/scene0468_00/label/892_labelId.png not found\n",
      "File /ds-av/public_datasets/scannet/raw/scans/scene0468_00/label/10_labelId.png not found\n",
      "File /ds-av/public_datasets/scannet/raw/scans/scene0468_00/label/963_labelId.png not found\n",
      "File /ds-av/public_datasets/scannet/raw/scans/scene0468_00/label/720_labelId.png not found\n",
      "File /ds-av/public_datasets/scannet/raw/scans/scene0468_00/label/1625_labelId.png not found\n",
      "File /ds-av/public_datasets/scannet/raw/scans/scene0468_00/label/382_labelId.png not found\n",
      "File /ds-av/public_datasets/scannet/raw/scans/scene0468_00/label/203_labelId.png not found\n",
      "File /ds-av/public_datasets/scannet/raw/scans/scene0468_00/label/1557_labelId.png not found\n",
      "File /ds-av/public_datasets/scannet/raw/scans/scene0468_00/label/394_labelId.png not found\n",
      "File /ds-av/public_datasets/scannet/raw/scans/scene0468_00/label/1329_labelId.png not found\n",
      "File /ds-av/public_datasets/scannet/raw/scans/scene0468_00/label/151_labelId.png not found\n",
      "File /ds-av/public_datasets/scannet/raw/scans/scene0468_00/label/188_labelId.png not found\n",
      "File /ds-av/public_datasets/scannet/raw/scans/scene0468_00/label/1566_labelId.png not found\n",
      "File /ds-av/public_datasets/scannet/raw/scans/scene0468_00/label/1781_labelId.png not found\n",
      "File /ds-av/public_datasets/scannet/raw/scans/scene0468_00/label/1324_labelId.png not found\n",
      "File /ds-av/public_datasets/scannet/raw/scans/scene0468_00/label/1696_labelId.png not found\n",
      "File /ds-av/public_datasets/scannet/raw/scans/scene0468_00/label/1414_labelId.png not found\n",
      "File /ds-av/public_datasets/scannet/raw/scans/scene0468_00/label/1647_labelId.png not found\n",
      "File /ds-av/public_datasets/scannet/raw/scans/scene0468_00/label/829_labelId.png not found\n",
      "File /ds-av/public_datasets/scannet/raw/scans/scene0468_00/label/344_labelId.png not found\n",
      "File /ds-av/public_datasets/scannet/raw/scans/scene0468_00/label/884_labelId.png not found\n",
      "File /ds-av/public_datasets/scannet/raw/scans/scene0468_00/label/1525_labelId.png not found\n",
      "File /ds-av/public_datasets/scannet/raw/scans/scene0468_00/label/1662_labelId.png not found\n",
      "File /ds-av/public_datasets/scannet/raw/scans/scene0468_00/label/1744_labelId.png not found\n",
      "File /ds-av/public_datasets/scannet/raw/scans/scene0468_00/label/119_labelId.png not found\n",
      "File /ds-av/public_datasets/scannet/raw/scans/scene0468_00/label/7_labelId.png not found\n",
      "File /ds-av/public_datasets/scannet/raw/scans/scene0468_00/label/1119_labelId.png not found\n",
      "File /ds-av/public_datasets/scannet/raw/scans/scene0468_00/label/71_labelId.png not found\n",
      "File /ds-av/public_datasets/scannet/raw/scans/scene0468_00/label/955_labelId.png not found\n",
      "File /ds-av/public_datasets/scannet/raw/scans/scene0468_00/label/1709_labelId.png not found\n",
      "File /ds-av/public_datasets/scannet/raw/scans/scene0468_00/label/838_labelId.png not found\n",
      "File /ds-av/public_datasets/scannet/raw/scans/scene0468_00/label/1642_labelId.png not found\n",
      "File /ds-av/public_datasets/scannet/raw/scans/scene0468_00/label/1280_labelId.png not found\n",
      "File /ds-av/public_datasets/scannet/raw/scans/scene0468_00/label/474_labelId.png not found\n",
      "File /ds-av/public_datasets/scannet/raw/scans/scene0468_00/label/1539_labelId.png not found\n",
      "File /ds-av/public_datasets/scannet/raw/scans/scene0468_00/label/753_labelId.png not found\n",
      "File /ds-av/public_datasets/scannet/raw/scans/scene0468_00/label/249_labelId.png not found\n",
      "File /ds-av/public_datasets/scannet/raw/scans/scene0468_00/label/1533_labelId.png not found\n",
      "File /ds-av/public_datasets/scannet/raw/scans/scene0468_00/label/899_labelId.png not found\n",
      "File /ds-av/public_datasets/scannet/raw/scans/scene0468_00/label/552_labelId.png not found\n",
      "File /ds-av/public_datasets/scannet/raw/scans/scene0468_00/label/1570_labelId.png not found\n",
      "File /ds-av/public_datasets/scannet/raw/scans/scene0468_00/label/1650_labelId.png not found\n",
      "File /ds-av/public_datasets/scannet/raw/scans/scene0468_00/label/73_labelId.png not found\n",
      "File /ds-av/public_datasets/scannet/raw/scans/scene0468_00/label/346_labelId.png not found\n",
      "File /ds-av/public_datasets/scannet/raw/scans/scene0468_00/label/1390_labelId.png not found\n",
      "File /ds-av/public_datasets/scannet/raw/scans/scene0468_00/label/1057_labelId.png not found\n",
      "File /ds-av/public_datasets/scannet/raw/scans/scene0036_01/label/498_labelId.png not found\n",
      "File /ds-av/public_datasets/scannet/raw/scans/scene0036_01/label/397_labelId.png not found\n",
      "File /ds-av/public_datasets/scannet/raw/scans/scene0036_01/label/571_labelId.png not found\n",
      "File /ds-av/public_datasets/scannet/raw/scans/scene0036_01/label/636_labelId.png not found\n",
      "File /ds-av/public_datasets/scannet/raw/scans/scene0036_01/label/201_labelId.png not found\n",
      "File /ds-av/public_datasets/scannet/raw/scans/scene0036_01/label/533_labelId.png not found\n",
      "File /ds-av/public_datasets/scannet/raw/scans/scene0036_01/label/65_labelId.png not found\n",
      "File /ds-av/public_datasets/scannet/raw/scans/scene0036_01/label/407_labelId.png not found\n",
      "File /ds-av/public_datasets/scannet/raw/scans/scene0036_01/label/686_labelId.png not found\n",
      "File /ds-av/public_datasets/scannet/raw/scans/scene0036_01/label/110_labelId.png not found\n",
      "File /ds-av/public_datasets/scannet/raw/scans/scene0036_01/label/261_labelId.png not found\n",
      "Processing 105767 files for remapping\n",
      "Progress: 0.0 % "
     ]
    },
    {
     "name": "stderr",
     "output_type": "stream",
     "text": [
      "/tmp/ipykernel_3007067/3497703608.py:3: DeprecationWarning: Starting with ImageIO v3 the behavior of this function will switch to that of iio.v3.imread. To keep the current behavior (and make this warning dissapear) use `import imageio.v2 as imageio` or call `imageio.v2.imread` directly.\n",
      "  image = np.array(imageio.imread(input_file))\n",
      "/tmp/ipykernel_3007067/3497703608.py:3: DeprecationWarning: Starting with ImageIO v3 the behavior of this function will switch to that of iio.v3.imread. To keep the current behavior (and make this warning dissapear) use `import imageio.v2 as imageio` or call `imageio.v2.imread` directly.\n",
      "  image = np.array(imageio.imread(input_file))\n",
      "/tmp/ipykernel_3007067/3497703608.py:3: DeprecationWarning: Starting with ImageIO v3 the behavior of this function will switch to that of iio.v3.imread. To keep the current behavior (and make this warning dissapear) use `import imageio.v2 as imageio` or call `imageio.v2.imread` directly.\n",
      "  image = np.array(imageio.imread(input_file))\n",
      "/tmp/ipykernel_3007067/3497703608.py:3: DeprecationWarning: Starting with ImageIO v3 the behavior of this function will switch to that of iio.v3.imread. To keep the current behavior (and make this warning dissapear) use `import imageio.v2 as imageio` or call `imageio.v2.imread` directly.\n",
      "  image = np.array(imageio.imread(input_file))\n",
      "  0%|          | 0/105707 [00:00<?, ?it/s]/tmp/ipykernel_3007067/3497703608.py:3: DeprecationWarning: Starting with ImageIO v3 the behavior of this function will switch to that of iio.v3.imread. To keep the current behavior (and make this warning dissapear) use `import imageio.v2 as imageio` or call `imageio.v2.imread` directly.\n",
      "  image = np.array(imageio.imread(input_file))\n",
      "/tmp/ipykernel_3007067/3497703608.py:3: DeprecationWarning: Starting with ImageIO v3 the behavior of this function will switch to that of iio.v3.imread. To keep the current behavior (and make this warning dissapear) use `import imageio.v2 as imageio` or call `imageio.v2.imread` directly.\n",
      "  image = np.array(imageio.imread(input_file))\n",
      "/tmp/ipykernel_3007067/3497703608.py:3: DeprecationWarning: Starting with ImageIO v3 the behavior of this function will switch to that of iio.v3.imread. To keep the current behavior (and make this warning dissapear) use `import imageio.v2 as imageio` or call `imageio.v2.imread` directly.\n",
      "  image = np.array(imageio.imread(input_file))\n",
      "/tmp/ipykernel_3007067/3497703608.py:3: DeprecationWarning: Starting with ImageIO v3 the behavior of this function will switch to that of iio.v3.imread. To keep the current behavior (and make this warning dissapear) use `import imageio.v2 as imageio` or call `imageio.v2.imread` directly.\n",
      "  image = np.array(imageio.imread(input_file))\n",
      "/tmp/ipykernel_3007067/3497703608.py:3: DeprecationWarning: Starting with ImageIO v3 the behavior of this function will switch to that of iio.v3.imread. To keep the current behavior (and make this warning dissapear) use `import imageio.v2 as imageio` or call `imageio.v2.imread` directly.\n",
      "  image = np.array(imageio.imread(input_file))\n",
      "/tmp/ipykernel_3007067/3497703608.py:3: DeprecationWarning: Starting with ImageIO v3 the behavior of this function will switch to that of iio.v3.imread. To keep the current behavior (and make this warning dissapear) use `import imageio.v2 as imageio` or call `imageio.v2.imread` directly.\n",
      "  image = np.array(imageio.imread(input_file))\n",
      "/tmp/ipykernel_3007067/3497703608.py:3: DeprecationWarning: Starting with ImageIO v3 the behavior of this function will switch to that of iio.v3.imread. To keep the current behavior (and make this warning dissapear) use `import imageio.v2 as imageio` or call `imageio.v2.imread` directly.\n",
      "  image = np.array(imageio.imread(input_file))\n",
      "/tmp/ipykernel_3007067/3497703608.py:3: DeprecationWarning: Starting with ImageIO v3 the behavior of this function will switch to that of iio.v3.imread. To keep the current behavior (and make this warning dissapear) use `import imageio.v2 as imageio` or call `imageio.v2.imread` directly.\n",
      "  image = np.array(imageio.imread(input_file))\n",
      "100%|██████████| 105707/105707 [3:00:25<00:00,  9.76it/s] \n"
     ]
    }
   ],
   "source": [
    "main()"
   ]
  },
  {
   "cell_type": "code",
   "execution_count": null,
   "id": "fa18b13f",
   "metadata": {},
   "outputs": [],
   "source": []
  },
  {
   "cell_type": "code",
   "execution_count": null,
   "id": "31a32eaa",
   "metadata": {},
   "outputs": [],
   "source": []
  },
  {
   "cell_type": "code",
   "execution_count": 35,
   "id": "3efd883f",
   "metadata": {},
   "outputs": [],
   "source": [
    "label_map_file = \"/ds-av/public_datasets/scannet/raw/scannetv2-labels.combined.tsv\""
   ]
  },
  {
   "cell_type": "code",
   "execution_count": 3,
   "id": "e770cb90",
   "metadata": {},
   "outputs": [],
   "source": [
    "import json"
   ]
  },
  {
   "cell_type": "code",
   "execution_count": 2,
   "id": "f896bd70",
   "metadata": {},
   "outputs": [],
   "source": [
    "with open(\"/ds-av/public_datasets/scannet/pre/scannet_train.json\") as fp:\n",
    "    data = json.load(fp)"
   ]
  },
  {
   "cell_type": "code",
   "execution_count": 6,
   "id": "36a8b532",
   "metadata": {},
   "outputs": [
    {
     "data": {
      "text/plain": [
       "'/ds-av/public_datasets/scannet/pre/scans/scene0150_00/frame/color/428.jpg'"
      ]
     },
     "execution_count": 6,
     "metadata": {},
     "output_type": "execute_result"
    }
   ],
   "source": [
    "\"/ds-av/public_datasets/scannet/pre/scans/\" + data[\"images\"][0][\"file_name\"]"
   ]
  },
  {
   "cell_type": "code",
   "execution_count": 16,
   "id": "3681847d",
   "metadata": {},
   "outputs": [
    {
     "ename": "AttributeError",
     "evalue": "'str' object has no attribute 'shape'",
     "output_type": "error",
     "traceback": [
      "\u001b[0;31m---------------------------------------------------------------------------\u001b[0m",
      "\u001b[0;31mAttributeError\u001b[0m                            Traceback (most recent call last)",
      "\u001b[0;32m/tmp/ipykernel_3007067/3824821962.py\u001b[0m in \u001b[0;36m<module>\u001b[0;34m\u001b[0m\n\u001b[0;32m----> 1\u001b[0;31m \u001b[0mone_img\u001b[0m\u001b[0;34m.\u001b[0m\u001b[0mshape\u001b[0m\u001b[0;34m\u001b[0m\u001b[0;34m\u001b[0m\u001b[0m\n\u001b[0m",
      "\u001b[0;31mAttributeError\u001b[0m: 'str' object has no attribute 'shape'"
     ]
    }
   ],
   "source": [
    "one_img.shape"
   ]
  },
  {
   "cell_type": "code",
   "execution_count": 17,
   "id": "d78117f7",
   "metadata": {},
   "outputs": [],
   "source": [
    "one_img = \"/ds-av/public_datasets/scannet/raw/scans/scene0356_01/label/937.png\""
   ]
  },
  {
   "cell_type": "code",
   "execution_count": 21,
   "id": "2089bbfe",
   "metadata": {},
   "outputs": [
    {
     "data": {
      "text/plain": [
       "(968, 1296)"
      ]
     },
     "execution_count": 21,
     "metadata": {},
     "output_type": "execute_result"
    }
   ],
   "source": [
    "np.array(Image.open(one_img)).shape"
   ]
  },
  {
   "cell_type": "code",
   "execution_count": null,
   "id": "04db3d81",
   "metadata": {},
   "outputs": [],
   "source": []
  },
  {
   "cell_type": "code",
   "execution_count": null,
   "id": "7986a78d",
   "metadata": {},
   "outputs": [],
   "source": []
  },
  {
   "cell_type": "code",
   "execution_count": 21,
   "id": "1c8f36b7",
   "metadata": {},
   "outputs": [
    {
     "data": {
      "text/plain": [
       "'937_labelId.png'"
      ]
     },
     "execution_count": 21,
     "metadata": {},
     "output_type": "execute_result"
    }
   ],
   "source": [
    "Path(one_img).name.split(\".\")[0] + \"_labelId.\" + Path(one_img).name.split(\".\")[1]"
   ]
  },
  {
   "cell_type": "code",
   "execution_count": 115,
   "id": "5f4fdaeb",
   "metadata": {},
   "outputs": [],
   "source": [
    "p_one =Path(one_img)\n"
   ]
  },
  {
   "cell_type": "code",
   "execution_count": 118,
   "id": "6d40f42c",
   "metadata": {},
   "outputs": [
    {
     "data": {
      "text/plain": [
       "'937.png'"
      ]
     },
     "execution_count": 118,
     "metadata": {},
     "output_type": "execute_result"
    }
   ],
   "source": [
    "p_one.name\n"
   ]
  },
  {
   "cell_type": "code",
   "execution_count": 18,
   "id": "70535d98",
   "metadata": {},
   "outputs": [],
   "source": [
    "from pathlib import Path"
   ]
  },
  {
   "cell_type": "code",
   "execution_count": 125,
   "id": "e4bf4bf1",
   "metadata": {},
   "outputs": [
    {
     "name": "stderr",
     "output_type": "stream",
     "text": [
      "/tmp/ipykernel_1782041/1419295387.py:2: DeprecationWarning: Starting with ImageIO v3 the behavior of this function will switch to that of iio.v3.imread. To keep the current behavior (and make this warning dissapear) use `import imageio.v2 as imageio` or call `imageio.v2.imread` directly.\n",
      "  image = np.array(imageio.imread(input_file))\n"
     ]
    }
   ],
   "source": [
    "process_image(one_img)"
   ]
  },
  {
   "cell_type": "code",
   "execution_count": 93,
   "id": "9e5bcaed",
   "metadata": {},
   "outputs": [
    {
     "data": {
      "text/plain": [
       "array([ 0,  1,  3, 11], dtype=uint16)"
      ]
     },
     "execution_count": 93,
     "metadata": {},
     "output_type": "execute_result"
    }
   ],
   "source": [
    "np.unique(img)"
   ]
  },
  {
   "cell_type": "code",
   "execution_count": 94,
   "id": "be9cdf9b",
   "metadata": {},
   "outputs": [
    {
     "data": {
      "text/plain": [
       "array([0, 1, 2, 4], dtype=uint8)"
      ]
     },
     "execution_count": 94,
     "metadata": {},
     "output_type": "execute_result"
    }
   ],
   "source": [
    "np.unique(mapped_img)"
   ]
  },
  {
   "cell_type": "code",
   "execution_count": 20,
   "id": "3a0da269",
   "metadata": {},
   "outputs": [],
   "source": [
    "from PIL import Image"
   ]
  },
  {
   "cell_type": "code",
   "execution_count": 134,
   "id": "482482c6",
   "metadata": {},
   "outputs": [],
   "source": [
    "pic = Image.open(one_img)"
   ]
  },
  {
   "cell_type": "code",
   "execution_count": 135,
   "id": "8e018917",
   "metadata": {},
   "outputs": [],
   "source": [
    "pic_ar = np.array(pic)"
   ]
  },
  {
   "cell_type": "code",
   "execution_count": 133,
   "id": "f3d3f22a",
   "metadata": {},
   "outputs": [
    {
     "data": {
      "text/plain": [
       "<matplotlib.image.AxesImage at 0x7fc6ac39ff40>"
      ]
     },
     "execution_count": 133,
     "metadata": {},
     "output_type": "execute_result"
    },
    {
     "data": {
      "image/png": "[encoded data removed]",
      "text/plain": [
       "<Figure size 432x288 with 1 Axes>"
      ]
     },
     "metadata": {
      "needs_background": "light"
     },
     "output_type": "display_data"
    }
   ],
   "source": [
    "plt.imshow(pic_ar)"
   ]
  },
  {
   "cell_type": "code",
   "execution_count": 136,
   "id": "99655d4e",
   "metadata": {},
   "outputs": [
    {
     "data": {
      "text/plain": [
       "<matplotlib.image.AxesImage at 0x7fc6aa9452e0>"
      ]
     },
     "execution_count": 136,
     "metadata": {},
     "output_type": "execute_result"
    },
    {
     "data": {
      "image/png": "[encoded data removed]",
      "text/plain": [
       "<Figure size 432x288 with 1 Axes>"
      ]
     },
     "metadata": {
      "needs_background": "light"
     },
     "output_type": "display_data"
    }
   ],
   "source": [
    "plt.imshow(pic_ar)"
   ]
  },
  {
   "cell_type": "code",
   "execution_count": null,
   "id": "73bcb3f7",
   "metadata": {},
   "outputs": [],
   "source": [
    "searchLabel = os.path.join(\"/netscratch/gautam/scannet/scans/*/annotation/segmentation/\", \"*.png\")\n",
    "files = glob.glob(searchLabel)"
   ]
  }
 ],
 "metadata": {
  "kernelspec": {
   "display_name": "Python 3 (ipykernel)",
   "language": "python",
   "name": "python3"
  },
  "language_info": {
   "codemirror_mode": {
    "name": "ipython",
    "version": 3
   },
   "file_extension": ".py",
   "mimetype": "text/x-python",
   "name": "python",
   "nbconvert_exporter": "python",
   "pygments_lexer": "ipython3",
   "version": "3.8.12"
  }
 },
 "nbformat": 4,
 "nbformat_minor": 5
}
